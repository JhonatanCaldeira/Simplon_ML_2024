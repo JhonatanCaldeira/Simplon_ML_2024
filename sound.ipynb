{
 "cells": [
  {
   "cell_type": "code",
   "execution_count": 3,
   "metadata": {},
   "outputs": [],
   "source": [
    "import sounddevice as sd\n",
    "import numpy as np \n",
    "\n",
    "def sinusoids(a,f,Fs,T,phase):\n",
    "\n",
    "\n",
    "    t = np.arange(0,Fs*T) # pour une seconde\n",
    "    s = 0 \n",
    "    for i,freq in enumerate(f):\n",
    "\n",
    "        s += a[i] * np.sin(2*np.pi*freq*t/Fs + 2*np.pi/360*phase[i])\n",
    "    return s\n",
    "\n",
    "N = 1\n",
    "a = np.random.rand(N)\n",
    "f = np.random.rand(N)*256\n",
    "phase = np.random.randn(N)*360\n",
    "Fs = 44100 \n",
    "T = 2\n",
    "\n",
    "a[0] = 1\n",
    "f[0] = 440\n",
    "\n",
    "x = sinusoids(a,f,Fs,T,phase)\n",
    "\n",
    "x = x/np.abs(x).max() \n",
    "sd.play(x,Fs)"
   ]
  },
  {
   "cell_type": "code",
   "execution_count": 6,
   "metadata": {},
   "outputs": [
    {
     "data": {
      "text/plain": [
       "direction     object\n",
       "strength      object\n",
       "frequency    float64\n",
       "dtype: object"
      ]
     },
     "execution_count": 6,
     "metadata": {},
     "output_type": "execute_result"
    }
   ],
   "source": [
    "import plotly.express as px\n",
    "df = px.data.wind()\n",
    "df.dtypes"
   ]
  }
 ],
 "metadata": {
  "kernelspec": {
   "display_name": "Python 3",
   "language": "python",
   "name": "python3"
  },
  "language_info": {
   "codemirror_mode": {
    "name": "ipython",
    "version": 3
   },
   "file_extension": ".py",
   "mimetype": "text/x-python",
   "name": "python",
   "nbconvert_exporter": "python",
   "pygments_lexer": "ipython3",
   "version": "3.11.3"
  }
 },
 "nbformat": 4,
 "nbformat_minor": 2
}
