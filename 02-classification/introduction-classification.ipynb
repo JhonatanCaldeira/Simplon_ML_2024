{
 "cells": [
  {
   "cell_type": "markdown",
   "metadata": {},
   "source": [
    "#### Classification avec MNIST\n",
    "##### Introduction\n",
    "\n",
    "Nous allons utiliser le célèbre jeu de données MNIST qui consiste en des images de chiffres écrits à la main. Nous suivrons un flux de travail complet, y compris l'exploration des données, le nettoyage, la sélection de modèle, l'importance des caractéristiques, le réglage fin du modèle, et l'évaluation des métriques.\n",
    "\n",
    "**Exploration des Données**\n",
    "\n",
    "Tout d'abord, importons les bibliothèques nécessaires et chargeons le jeu de données MNIST."
   ]
  },
  {
   "cell_type": "code",
   "execution_count": null,
   "metadata": {},
   "outputs": [],
   "source": [
    "from sklearn.datasets import load_digits\n",
    "\n",
    "\n",
    "# Chargez le jeu de données MNIST\n",
    "digits = load_digits()\n",
    "X, y = digits[\"data\"], digits[\"target\"]\n"
   ]
  },
  {
   "cell_type": "code",
   "execution_count": null,
   "metadata": {},
   "outputs": [],
   "source": [
    "X"
   ]
  },
  {
   "cell_type": "code",
   "execution_count": null,
   "metadata": {},
   "outputs": [],
   "source": [
    "\n",
    "# Normalisation\n",
    "X /= 255"
   ]
  },
  {
   "cell_type": "markdown",
   "metadata": {},
   "source": [
    "Explorons les données en affichant quelques images et en vérifiant les classes."
   ]
  },
  {
   "cell_type": "code",
   "execution_count": null,
   "metadata": {},
   "outputs": [],
   "source": [
    "X.shape\n"
   ]
  },
  {
   "cell_type": "markdown",
   "metadata": {},
   "source": [
    "Il y à 1797 exemple de chiffres en taille 64 (vectorisé de 8*8)"
   ]
  },
  {
   "cell_type": "code",
   "execution_count": null,
   "metadata": {},
   "outputs": [],
   "source": [
    "\n",
    "from matplotlib import pyplot as plt \n",
    "import seaborn as sns\n",
    "\n",
    "# Affichez quelques images\n",
    "fig, axes = plt.subplots(2, 5, figsize=(10, 5))\n",
    "for i, ax in enumerate(axes.ravel()):\n",
    "    ax.imshow(X[i].reshape(8, 8), cmap=\"gray\")\n",
    "    ax.set_title(f\"Classe : {y[i]}\")\n",
    "plt.show()"
   ]
  },
  {
   "cell_type": "code",
   "execution_count": null,
   "metadata": {},
   "outputs": [],
   "source": [
    "# Analysez la distribution des classes\n",
    "sns.countplot(y)\n",
    "plt.title('equilibre entre classe')\n",
    "plt.show()"
   ]
  },
  {
   "cell_type": "code",
   "execution_count": null,
   "metadata": {},
   "outputs": [],
   "source": [
    "import numpy as np\n",
    "n = 650\n",
    "\n",
    "plt.figure(figsize=(12,8))\n",
    "plt.subplot(1,2,1)\n",
    "plt.imshow(np.reshape( X[n,:],(64,1)) , aspect='auto',cmap='gray')\n",
    "plt.colorbar()\n",
    "plt.title(y[n])\n",
    "\n",
    "plt.subplot(1,2,2)\n",
    "plt.imshow(np.reshape( X[n,:],(8,8)) , aspect='auto',cmap='gray')\n",
    "plt.colorbar()\n",
    "plt.title(y[n])"
   ]
  },
  {
   "cell_type": "code",
   "execution_count": null,
   "metadata": {},
   "outputs": [],
   "source": [
    "n = 640\n",
    "\n",
    "plt.figure(figsize=(12,8))\n",
    "plt.subplot(1,2,1)\n",
    "plt.imshow(np.reshape( X[n,:],(64,1)) , aspect='auto',cmap='gray')\n",
    "plt.colorbar()\n",
    "plt.title(y[n])\n",
    "\n",
    "plt.subplot(1,2,2)\n",
    "plt.imshow(np.reshape( X[n,:],(8,8)) , aspect='auto',cmap='gray')\n",
    "plt.colorbar()\n",
    "plt.title(y[n])"
   ]
  },
  {
   "cell_type": "markdown",
   "metadata": {},
   "source": [
    "**Classification**\n",
    "\n",
    "1. Divisez les données en ensembles d'entraînement et de test\n",
    "2. sélectionnez un modèle de classification\n",
    "3. ajustez-le\n",
    "4. évaluez-le et affichez les métriques."
   ]
  },
  {
   "cell_type": "code",
   "execution_count": null,
   "metadata": {},
   "outputs": [],
   "source": [
    "from sklearn.model_selection import train_test_split\n",
    "from sklearn.linear_model import LogisticRegression\n",
    "from sklearn.metrics import classification_report, accuracy_score, confusion_matrix\n",
    "\n",
    "\n",
    "# Divisez les données en ensembles d'entraînement et de test\n",
    "X_train, X_test, y_train, y_test = train_test_split(X, y, test_size=0.2, random_state=42)\n",
    "\n",
    "# Créez un modèle de régression logistique\n",
    "model = LogisticRegression(max_iter=100)\n",
    "\n",
    "# Entraînez le modèle sur les données d'entraînement\n",
    "model.fit(X_train, y_train)\n",
    "\n",
    "# Prédisez les étiquettes sur l'ensemble de test\n",
    "y_pred_logistic = model.predict(X_test)\n",
    "\n",
    "# Évaluez les performances du modèle\n",
    "accuracy = accuracy_score(y_test, y_pred_logistic)\n",
    "report = classification_report(y_test, y_pred_logistic)\n",
    "conf_matrix = confusion_matrix(y_test, y_pred_logistic)\n",
    "\n",
    "# Affichez l'exactitude et le rapport de classification\n",
    "print(f\"Accuracy: {accuracy}\")\n",
    "print(report)\n",
    "\n",
    "# Affichez la matrice de confusion\n",
    "plt.figure(figsize=(8, 6))\n",
    "sns.heatmap(conf_matrix, annot=True, fmt=\"d\", cmap=\"Blues\")\n",
    "plt.xlabel('Predicted')\n",
    "plt.ylabel('Actual')\n",
    "plt.show()"
   ]
  },
  {
   "cell_type": "markdown",
   "metadata": {},
   "source": [
    "# Veille Technologique à faire\n",
    "\n",
    "* Accuracy\n",
    "* precision\n",
    "* recall\n",
    "* unbalanced accuracy\n",
    "* f1 score\n",
    "* confusion matrix \n",
    "* "
   ]
  },
  {
   "cell_type": "code",
   "execution_count": null,
   "metadata": {},
   "outputs": [],
   "source": [
    "from sklearn.model_selection import train_test_split, GridSearchCV\n",
    "from sklearn.ensemble import GradientBoostingClassifier\n",
    "from sklearn.metrics import classification_report, accuracy_score, confusion_matrix\n",
    "\n",
    "# Modèle alternatif : Classificateur Gradient Boosting\n",
    "gradient_boosting_model = GradientBoostingClassifier()\n",
    "\n",
    "# Définissez la grille des hyperparamètres à ajuster\n",
    "param_grid = {\n",
    "    'n_estimators': [50, 100, 200],\n",
    "    'learning_rate': [0.01, 0.1, 0.2],\n",
    "    'max_depth': [3, 4, 5]\n",
    "}\n",
    "\n",
    "# Utilisez GridSearchCV pour rechercher les meilleurs hyperparamètres\n",
    "grid_search = GridSearchCV(gradient_boosting_model, param_grid, cv=3, n_jobs=-1, verbose=2)\n",
    "grid_search.fit(X_train, y_train)\n",
    "\n",
    "# Meilleurs hyperparamètres trouvés\n",
    "best_params = grid_search.best_params_\n",
    "\n",
    "# Entraînez le modèle Gradient Boosting avec les meilleurs hyperparamètres\n",
    "best_gradient_boosting_model = GradientBoostingClassifier(**best_params)\n",
    "best_gradient_boosting_model.fit(X_train, y_train)\n",
    "\n",
    "# Prédisez les étiquettes sur l'ensemble de test avec le modèle Gradient Boosting optimisé\n",
    "y_pred_gradient_boosting = best_gradient_boosting_model.predict(X_test)\n",
    "\n",
    "# Évaluez les performances des deux modèles\n",
    "accuracy_logistic = accuracy_score(y_test, y_pred_logistic)\n",
    "accuracy_gradient_boosting = accuracy_score(y_test, y_pred_gradient_boosting)\n",
    "\n",
    "print(\"Régression Logistique - Accuracy:\", accuracy_logistic)\n",
    "print(\"Gradient Boosting (fine-tuned) - Accuracy:\", accuracy_gradient_boosting)\n",
    "\n",
    "# Affichez la matrice de confusion pour le modèle Gradient Boosting\n",
    "conf_matrix_gb = confusion_matrix(y_test, y_pred_gradient_boosting)\n",
    "plt.figure(figsize=(8, 6))\n",
    "sns.heatmap(conf_matrix_gb, annot=True, fmt=\"d\", cmap=\"Blues\")\n",
    "plt.xlabel('Predicted')\n",
    "plt.ylabel('Actual')\n",
    "plt.title('Matrice de Confusion - Gradient Boosting')\n",
    "plt.show()\n",
    "\n",
    "print(\"best parameters: \")\n",
    "print(best_params)\n"
   ]
  },
  {
   "cell_type": "code",
   "execution_count": 41,
   "metadata": {},
   "outputs": [
    {
     "name": "stdout",
     "output_type": "stream",
     "text": [
      "classe estimée [6]\n",
      "probabilité [[0.09046635 0.09171793 0.07547455 0.05581933 0.10272845 0.07120551\n",
      "  0.28166438 0.06468423 0.0846778  0.08156149]]\n"
     ]
    },
    {
     "data": {
      "image/png": "[encoded data removed]",
      "text/plain": [
       "<Figure size 864x576 with 5 Axes>"
      ]
     },
     "metadata": {
      "needs_background": "light"
     },
     "output_type": "display_data"
    }
   ],
   "source": [
    "# n = 640 # de X\n",
    "\n",
    "n = 0\n",
    "\n",
    "plt.figure(figsize=(12,8))\n",
    "plt.subplot(2,2,1)\n",
    "plt.imshow(np.reshape( X_test[n,:],(64,1)) , aspect='auto',cmap='gray')\n",
    "plt.colorbar()\n",
    "plt.title(y_test[n])\n",
    "\n",
    "plt.subplot(2,2,2)\n",
    "plt.imshow(np.reshape( X_test[n,:],(8,8)) , aspect='auto',cmap='gray')\n",
    "plt.colorbar()\n",
    "plt.title(y_test[n])\n",
    "\n",
    "proba = model.predict_proba( np.reshape( X_test[n,:],(1,64)) )\n",
    "\n",
    "print( \"classe estimée\", model.predict( np.reshape( X_test[n,:],(1,64)) ))\n",
    "print( \"probabilité\", proba)\n",
    "\n",
    "plt.subplot(2,2,3)\n",
    "plt.bar(np.arange(10),proba[0])\n",
    "plt.title('equilibre entre classe')\n",
    "plt.show()"
   ]
  },
  {
   "cell_type": "code",
   "execution_count": null,
   "metadata": {},
   "outputs": [],
   "source": []
  },
  {
   "cell_type": "code",
   "execution_count": 33,
   "metadata": {},
   "outputs": [
    {
     "data": {
      "text/plain": [
       "array([0.10264822, 0.07980961, 0.07103118, 0.05115906, 0.17246734,\n",
       "       0.07740212, 0.10119699, 0.17554678, 0.09780129, 0.07093742])"
      ]
     },
     "execution_count": 33,
     "metadata": {},
     "output_type": "execute_result"
    }
   ],
   "source": []
  }
 ],
 "metadata": {
  "kernelspec": {
   "display_name": "base",
   "language": "python",
   "name": "python3"
  },
  "language_info": {
   "codemirror_mode": {
    "name": "ipython",
    "version": 3
   },
   "file_extension": ".py",
   "mimetype": "text/x-python",
   "name": "python",
   "nbconvert_exporter": "python",
   "pygments_lexer": "ipython3",
   "version": "3.8.8"
  },
  "orig_nbformat": 4
 },
 "nbformat": 4,
 "nbformat_minor": 2
}
