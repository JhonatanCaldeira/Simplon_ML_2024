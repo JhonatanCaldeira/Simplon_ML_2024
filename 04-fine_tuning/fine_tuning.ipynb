{
 "cells": [
  {
   "cell_type": "code",
   "execution_count": 10,
   "metadata": {},
   "outputs": [
    {
     "name": "stderr",
     "output_type": "stream",
     "text": [
      "c:\\Users\\jhona\\AppData\\Local\\Programs\\Python\\Python311\\Lib\\site-packages\\sklearn\\datasets\\_openml.py:968: FutureWarning: The default value of `parser` will change from `'liac-arff'` to `'auto'` in 1.4. You can set `parser='auto'` to silence this warning. Therefore, an `ImportError` will be raised from 1.4 if the dataset is dense and pandas is not installed. Note that the pandas parser may return different data types. See the Notes Section in fetch_openml's API doc for details.\n",
      "  warn(\n"
     ]
    },
    {
     "name": "stdout",
     "output_type": "stream",
     "text": [
      "Married               0\n",
      "Age                   0\n",
      "Years_of_education    0\n",
      "Male                  0\n",
      "Religious             0\n",
      "Sex_partners          0\n",
      "Income                0\n",
      "Drug_use              0\n",
      "Same_sex_relations    0\n",
      "dtype: int64\n"
     ]
    },
    {
     "data": {
      "text/html": [
       "<style>#sk-container-id-1 {color: black;background-color: white;}#sk-container-id-1 pre{padding: 0;}#sk-container-id-1 div.sk-toggleable {background-color: white;}#sk-container-id-1 label.sk-toggleable__label {cursor: pointer;display: block;width: 100%;margin-bottom: 0;padding: 0.3em;box-sizing: border-box;text-align: center;}#sk-container-id-1 label.sk-toggleable__label-arrow:before {content: \"▸\";float: left;margin-right: 0.25em;color: #696969;}#sk-container-id-1 label.sk-toggleable__label-arrow:hover:before {color: black;}#sk-container-id-1 div.sk-estimator:hover label.sk-toggleable__label-arrow:before {color: black;}#sk-container-id-1 div.sk-toggleable__content {max-height: 0;max-width: 0;overflow: hidden;text-align: left;background-color: #f0f8ff;}#sk-container-id-1 div.sk-toggleable__content pre {margin: 0.2em;color: black;border-radius: 0.25em;background-color: #f0f8ff;}#sk-container-id-1 input.sk-toggleable__control:checked~div.sk-toggleable__content {max-height: 200px;max-width: 100%;overflow: auto;}#sk-container-id-1 input.sk-toggleable__control:checked~label.sk-toggleable__label-arrow:before {content: \"▾\";}#sk-container-id-1 div.sk-estimator input.sk-toggleable__control:checked~label.sk-toggleable__label {background-color: #d4ebff;}#sk-container-id-1 div.sk-label input.sk-toggleable__control:checked~label.sk-toggleable__label {background-color: #d4ebff;}#sk-container-id-1 input.sk-hidden--visually {border: 0;clip: rect(1px 1px 1px 1px);clip: rect(1px, 1px, 1px, 1px);height: 1px;margin: -1px;overflow: hidden;padding: 0;position: absolute;width: 1px;}#sk-container-id-1 div.sk-estimator {font-family: monospace;background-color: #f0f8ff;border: 1px dotted black;border-radius: 0.25em;box-sizing: border-box;margin-bottom: 0.5em;}#sk-container-id-1 div.sk-estimator:hover {background-color: #d4ebff;}#sk-container-id-1 div.sk-parallel-item::after {content: \"\";width: 100%;border-bottom: 1px solid gray;flex-grow: 1;}#sk-container-id-1 div.sk-label:hover label.sk-toggleable__label {background-color: #d4ebff;}#sk-container-id-1 div.sk-serial::before {content: \"\";position: absolute;border-left: 1px solid gray;box-sizing: border-box;top: 0;bottom: 0;left: 50%;z-index: 0;}#sk-container-id-1 div.sk-serial {display: flex;flex-direction: column;align-items: center;background-color: white;padding-right: 0.2em;padding-left: 0.2em;position: relative;}#sk-container-id-1 div.sk-item {position: relative;z-index: 1;}#sk-container-id-1 div.sk-parallel {display: flex;align-items: stretch;justify-content: center;background-color: white;position: relative;}#sk-container-id-1 div.sk-item::before, #sk-container-id-1 div.sk-parallel-item::before {content: \"\";position: absolute;border-left: 1px solid gray;box-sizing: border-box;top: 0;bottom: 0;left: 50%;z-index: -1;}#sk-container-id-1 div.sk-parallel-item {display: flex;flex-direction: column;z-index: 1;position: relative;background-color: white;}#sk-container-id-1 div.sk-parallel-item:first-child::after {align-self: flex-end;width: 50%;}#sk-container-id-1 div.sk-parallel-item:last-child::after {align-self: flex-start;width: 50%;}#sk-container-id-1 div.sk-parallel-item:only-child::after {width: 0;}#sk-container-id-1 div.sk-dashed-wrapped {border: 1px dashed gray;margin: 0 0.4em 0.5em 0.4em;box-sizing: border-box;padding-bottom: 0.4em;background-color: white;}#sk-container-id-1 div.sk-label label {font-family: monospace;font-weight: bold;display: inline-block;line-height: 1.2em;}#sk-container-id-1 div.sk-label-container {text-align: center;}#sk-container-id-1 div.sk-container {/* jupyter's `normalize.less` sets `[hidden] { display: none; }` but bootstrap.min.css set `[hidden] { display: none !important; }` so we also need the `!important` here to be able to override the default hidden behavior on the sphinx rendered scikit-learn.org. See: https://github.com/scikit-learn/scikit-learn/issues/21755 */display: inline-block !important;position: relative;}#sk-container-id-1 div.sk-text-repr-fallback {display: none;}</style><div id=\"sk-container-id-1\" class=\"sk-top-container\"><div class=\"sk-text-repr-fallback\"><pre>GridSearchCV(cv=10, estimator=RandomForestRegressor(),\n",
       "             param_grid=[{&#x27;max_features&#x27;: [4, 6, 8, 10],\n",
       "                          &#x27;n_estimators&#x27;: [5, 20, 50]},\n",
       "                         {&#x27;bootstrap&#x27;: [False], &#x27;max_features&#x27;: [4, 5, 6],\n",
       "                          &#x27;n_estimators&#x27;: [5, 20]}],\n",
       "             return_train_score=True, scoring=&#x27;neg_mean_squared_error&#x27;)</pre><b>In a Jupyter environment, please rerun this cell to show the HTML representation or trust the notebook. <br />On GitHub, the HTML representation is unable to render, please try loading this page with nbviewer.org.</b></div><div class=\"sk-container\" hidden><div class=\"sk-item sk-dashed-wrapped\"><div class=\"sk-label-container\"><div class=\"sk-label sk-toggleable\"><input class=\"sk-toggleable__control sk-hidden--visually\" id=\"sk-estimator-id-1\" type=\"checkbox\" ><label for=\"sk-estimator-id-1\" class=\"sk-toggleable__label sk-toggleable__label-arrow\">GridSearchCV</label><div class=\"sk-toggleable__content\"><pre>GridSearchCV(cv=10, estimator=RandomForestRegressor(),\n",
       "             param_grid=[{&#x27;max_features&#x27;: [4, 6, 8, 10],\n",
       "                          &#x27;n_estimators&#x27;: [5, 20, 50]},\n",
       "                         {&#x27;bootstrap&#x27;: [False], &#x27;max_features&#x27;: [4, 5, 6],\n",
       "                          &#x27;n_estimators&#x27;: [5, 20]}],\n",
       "             return_train_score=True, scoring=&#x27;neg_mean_squared_error&#x27;)</pre></div></div></div><div class=\"sk-parallel\"><div class=\"sk-parallel-item\"><div class=\"sk-item\"><div class=\"sk-label-container\"><div class=\"sk-label sk-toggleable\"><input class=\"sk-toggleable__control sk-hidden--visually\" id=\"sk-estimator-id-2\" type=\"checkbox\" ><label for=\"sk-estimator-id-2\" class=\"sk-toggleable__label sk-toggleable__label-arrow\">estimator: RandomForestRegressor</label><div class=\"sk-toggleable__content\"><pre>RandomForestRegressor()</pre></div></div></div><div class=\"sk-serial\"><div class=\"sk-item\"><div class=\"sk-estimator sk-toggleable\"><input class=\"sk-toggleable__control sk-hidden--visually\" id=\"sk-estimator-id-3\" type=\"checkbox\" ><label for=\"sk-estimator-id-3\" class=\"sk-toggleable__label sk-toggleable__label-arrow\">RandomForestRegressor</label><div class=\"sk-toggleable__content\"><pre>RandomForestRegressor()</pre></div></div></div></div></div></div></div></div></div></div>"
      ],
      "text/plain": [
       "GridSearchCV(cv=10, estimator=RandomForestRegressor(),\n",
       "             param_grid=[{'max_features': [4, 6, 8, 10],\n",
       "                          'n_estimators': [5, 20, 50]},\n",
       "                         {'bootstrap': [False], 'max_features': [4, 5, 6],\n",
       "                          'n_estimators': [5, 20]}],\n",
       "             return_train_score=True, scoring='neg_mean_squared_error')"
      ]
     },
     "execution_count": 10,
     "metadata": {},
     "output_type": "execute_result"
    }
   ],
   "source": [
    "from sklearn.model_selection import GridSearchCV\n",
    "from sklearn.datasets import fetch_openml \n",
    "from sklearn.ensemble import RandomForestRegressor \n",
    "\n",
    "X, y = fetch_openml(data_id=506,return_X_y=True) \n",
    "\n",
    "income_mean = X['Income'].mean()\n",
    "X['Income'] = X['Income'].fillna(income_mean)\n",
    "\n",
    "forest = RandomForestRegressor()\n",
    "\n",
    "param_grid = [\n",
    "    {'n_estimators': [5, 20, 50], 'max_features': [4, 6, 8, 10]},\n",
    "    {'bootstrap': [False], 'n_estimators': [5, 20], \n",
    "     'max_features': [4, 5, 6]},\n",
    "]\n",
    "\n",
    "grid_search = GridSearchCV(estimator=forest,\n",
    "                          param_grid=param_grid,\n",
    "                          scoring=\"neg_mean_squared_error\",\n",
    "                          cv=10,\n",
    "                          return_train_score=True)\n",
    "grid_search.fit(X, y)"
   ]
  },
  {
   "cell_type": "code",
   "execution_count": 11,
   "metadata": {},
   "outputs": [
    {
     "name": "stdout",
     "output_type": "stream",
     "text": [
      "-0.61866875\n",
      "{'max_features': 4, 'n_estimators': 20}\n",
      "RandomForestRegressor(max_features=4, n_estimators=20)\n"
     ]
    }
   ],
   "source": [
    "print(grid_search.best_score_)\n",
    "# -18.54663825490196\n",
    "print(grid_search.best_params_)\n",
    "# {'max_features': 4, 'n_estimators': 50}\n",
    "print(grid_search.best_estimator_)\n",
    "# RandomForestRegressor(max_features=4, n_estimators=50)"
   ]
  },
  {
   "cell_type": "code",
   "execution_count": 12,
   "metadata": {},
   "outputs": [
    {
     "name": "stdout",
     "output_type": "stream",
     "text": [
      "0.8665929455824882 {'max_features': 4, 'n_estimators': 5}\n",
      "0.7865549885418056 {'max_features': 4, 'n_estimators': 20}\n",
      "0.7974560593955422 {'max_features': 4, 'n_estimators': 50}\n",
      "0.8599806199366743 {'max_features': 6, 'n_estimators': 5}\n",
      "0.8072593810748397 {'max_features': 6, 'n_estimators': 20}\n",
      "0.8103235979121758 {'max_features': 6, 'n_estimators': 50}\n",
      "0.8163026399565299 {'max_features': 8, 'n_estimators': 5}\n",
      "0.842270616646851 {'max_features': 8, 'n_estimators': 20}\n",
      "0.8103705942345144 {'max_features': 8, 'n_estimators': 50}\n",
      "0.8845714593330867 {'max_features': 10, 'n_estimators': 5}\n",
      "0.8077321647675051 {'max_features': 10, 'n_estimators': 20}\n",
      "0.8278796208789455 {'max_features': 10, 'n_estimators': 50}\n",
      "0.8502058574251297 {'bootstrap': False, 'max_features': 4, 'n_estimators': 5}\n",
      "0.8262156447723964 {'bootstrap': False, 'max_features': 4, 'n_estimators': 20}\n",
      "0.9241031688435369 {'bootstrap': False, 'max_features': 5, 'n_estimators': 5}\n",
      "0.8828192293253849 {'bootstrap': False, 'max_features': 5, 'n_estimators': 20}\n",
      "0.9422756143153305 {'bootstrap': False, 'max_features': 6, 'n_estimators': 5}\n",
      "0.8986540862126354 {'bootstrap': False, 'max_features': 6, 'n_estimators': 20}\n"
     ]
    }
   ],
   "source": [
    "import numpy as np\n",
    "\n",
    "cvres = grid_search.cv_results_\n",
    "\n",
    "for mean_score, params in zip(cvres[\"mean_test_score\"], cvres[\"params\"]):\n",
    "    print(np.sqrt(-mean_score), params)\n",
    "# 4.980283557562309 {'max_features': 4, 'n_estimators': 5}\n",
    "# 4.373837747355985 {'max_features': 4, 'n_estimators': 20}\n",
    "# 4.306580807891796 {'max_features': 4, 'n_estimators': 50}\n",
    "# 4.828557428385386 {'max_features': 6, 'n_estimators': 5}\n",
    "# 4.557101434068827 {'max_features': 6, 'n_estimators': 20}\n",
    "# 4.433495188913331 {'max_features': 6, 'n_estimators': 50}\n",
    "# 4.873042637718206 {'max_features': 8, 'n_estimators': 5}\n",
    "# 4.561536863907198 {'max_features': 8, 'n_estimators': 20}\n",
    "# 4.442312533734265 {'max_features': 8, 'n_estimators': 50}\n",
    "# 4.747961441606323 {'max_features': 10, 'n_estimators': 5}\n",
    "# 4.716852643634811 {'max_features': 10, 'n_estimators': 20}\n",
    "# 4.472841186924814 {'max_features': 10, 'n_estimators': 50}\n",
    "# 5.03961879666372 {'bootstrap': False, 'max_features': 4, 'n_estimators': 5}\n",
    "# 4.640728037140927 {'bootstrap': False, 'max_features': 4, 'n_estimators': 20}\n",
    "# 4.98156182926836 {'bootstrap': False, 'max_features': 5, 'n_estimators': 5}\n",
    "# 4.507912559175973 {'bootstrap': False, 'max_features': 5, 'n_estimators': 20}\n",
    "# 4.883161357876557 {'bootstrap': False, 'max_features': 6, 'n_estimators': 5}\n",
    "# 4.6037751497452355 {'bootstrap': False, 'max_features': 6, 'n_estimators': 20}"
   ]
  }
 ],
 "metadata": {
  "kernelspec": {
   "display_name": "Python 3",
   "language": "python",
   "name": "python3"
  },
  "language_info": {
   "codemirror_mode": {
    "name": "ipython",
    "version": 3
   },
   "file_extension": ".py",
   "mimetype": "text/x-python",
   "name": "python",
   "nbconvert_exporter": "python",
   "pygments_lexer": "ipython3",
   "version": "3.11.3"
  },
  "orig_nbformat": 4
 },
 "nbformat": 4,
 "nbformat_minor": 2
}
