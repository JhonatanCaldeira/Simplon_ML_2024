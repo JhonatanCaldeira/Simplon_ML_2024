{
 "cells": [
  {
   "cell_type": "code",
   "execution_count": 6,
   "metadata": {},
   "outputs": [],
   "source": [
    "from sqlalchemy import (\n",
    "    Column,\n",
    "    Integer,\n",
    "    Text,\n",
    ")\n",
    "from sqlalchemy.orm import declarative_base\n",
    "\n",
    "Base = declarative_base()\n",
    "\n",
    "\n",
    "class ModelBlog(Base):\n",
    "    __tablename__ = \"model_blog\"\n",
    "    id = Column(Integer, primary_key=True)\n",
    "    comment = Column(Text)"
   ]
  },
  {
   "cell_type": "code",
   "execution_count": 2,
   "metadata": {},
   "outputs": [],
   "source": [
    "from sqlalchemy import create_engine\n",
    "from sqlalchemy.orm import sessionmaker\n",
    "import os \n",
    "\n",
    "def create_db(name=\"base_de_donnees\"):\n",
    "    if os.path.exists(\"{}.db\".format(name)):\n",
    "        engine = create_engine(\"sqlite:///{}.db\".format(name))\n",
    "    else:\n",
    "        engine = create_engine(\"sqlite:///{}.db\".format(name))\n",
    "        Base.metadata.create_all(engine)\n",
    "\n",
    "    Session = sessionmaker(bind=engine)\n",
    "    session = Session()\n",
    "    return session"
   ]
  },
  {
   "cell_type": "code",
   "execution_count": 3,
   "metadata": {},
   "outputs": [],
   "source": [
    "session = create_db()"
   ]
  },
  {
   "cell_type": "code",
   "execution_count": 9,
   "metadata": {},
   "outputs": [],
   "source": [
    "premier_commentaire = ModelBlog(comment=\"permier article de blog\")\n",
    "session.add(premier_commentaire)\n",
    "session.commit()"
   ]
  },
  {
   "cell_type": "code",
   "execution_count": 10,
   "metadata": {},
   "outputs": [
    {
     "name": "stdout",
     "output_type": "stream",
     "text": [
      "permier article de blog\n"
     ]
    }
   ],
   "source": [
    "req = session.query(ModelBlog).all()\n",
    "for r in req:\n",
    "    print(r.comment)"
   ]
  }
 ],
 "metadata": {
  "kernelspec": {
   "display_name": ".venv",
   "language": "python",
   "name": "python3"
  },
  "language_info": {
   "codemirror_mode": {
    "name": "ipython",
    "version": 3
   },
   "file_extension": ".py",
   "mimetype": "text/x-python",
   "name": "python",
   "nbconvert_exporter": "python",
   "pygments_lexer": "ipython3",
   "version": "3.11.7"
  }
 },
 "nbformat": 4,
 "nbformat_minor": 2
}
